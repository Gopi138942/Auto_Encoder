{
  "nbformat": 4,
  "nbformat_minor": 0,
  "metadata": {
    "colab": {
      "provenance": [],
      "mount_file_id": "1YRnZZqigaankyLImP4AxgY0_bjO8wNwn",
      "authorship_tag": "ABX9TyNnq2q41BeQtmVpgW7p1pLR",
      "include_colab_link": true
    },
    "kernelspec": {
      "name": "python3",
      "display_name": "Python 3"
    },
    "language_info": {
      "name": "python"
    }
  },
  "cells": [
    {
      "cell_type": "markdown",
      "metadata": {
        "id": "view-in-github",
        "colab_type": "text"
      },
      "source": [
        "<a href=\"https://colab.research.google.com/github/Gopi138942/Auto_Encoder/blob/main/Autoencoder.ipynb\" target=\"_parent\"><img src=\"https://colab.research.google.com/assets/colab-badge.svg\" alt=\"Open In Colab\"/></a>"
      ]
    },
    {
      "cell_type": "code",
      "source": [
        "# Install CUDA if not already installed. Only run this cell once.\n",
        "!apt-get install nvidia-cuda-toolkit\n",
        "\n",
        "\n"
      ],
      "metadata": {
        "colab": {
          "base_uri": "https://localhost:8080/"
        },
        "id": "Y5vi6fTg02qw",
        "outputId": "ab745c16-3078-4be1-896b-9585325e3b5a"
      },
      "execution_count": 1,
      "outputs": [
        {
          "output_type": "stream",
          "name": "stdout",
          "text": [
            "Reading package lists... Done\n",
            "Building dependency tree... Done\n",
            "Reading state information... Done\n",
            "nvidia-cuda-toolkit is already the newest version (11.5.1-1ubuntu1).\n",
            "0 upgraded, 0 newly installed, 0 to remove and 30 not upgraded.\n"
          ]
        }
      ]
    },
    {
      "cell_type": "code",
      "source": [
        "# Verify CUDA installation:\n",
        "!nvidia-smi"
      ],
      "metadata": {
        "colab": {
          "base_uri": "https://localhost:8080/"
        },
        "id": "yZoOxGD607LC",
        "outputId": "ad272ffa-23e6-4241-e467-2d4712f33c27"
      },
      "execution_count": 2,
      "outputs": [
        {
          "output_type": "stream",
          "name": "stdout",
          "text": [
            "/bin/bash: line 1: nvidia-smi: command not found\n"
          ]
        }
      ]
    },
    {
      "cell_type": "code",
      "execution_count": 3,
      "metadata": {
        "id": "mC9J9n15wfJw"
      },
      "outputs": [],
      "source": [
        "\n",
        "import pandas as pd\n",
        "import numpy as np\n",
        "import torch\n",
        "import torch.nn as nn\n",
        "from torch.utils.data import Dataset, DataLoader\n",
        "from torchvision import transforms\n",
        "import matplotlib.pyplot as plt\n",
        "import os\n",
        "\n",
        "\n",
        "class TrainDataset(Dataset):\n",
        "    def __init__(self, train_file, transform=None):\n",
        "        self.data = pd.read_csv(train_file)\n",
        "        self.data = self.data.iloc[:,1:]\n",
        "        self.transform = transform\n",
        "        if transform is not None:\n",
        "            self.data = self.transform(np.array(self.data))\n",
        "\n",
        "    def __len__(self):\n",
        "        return len(self.data[0])\n",
        "\n",
        "    def __getitem__(self, ind):\n",
        "        user_vector = self.data.data[0][ind]\n",
        "        return user_vector\n"
      ]
    },
    {
      "cell_type": "code",
      "source": [
        "class TestDataset(Dataset):\n",
        "    def __init__(self, test_file, transform=None):\n",
        "        self.data = pd.read_csv(test_file)\n",
        "        self.data = self.data.iloc[:,1:]\n",
        "        self.transform = transform\n",
        "        if transform is not None:\n",
        "            self.data = self.transform(np.array(self.data))\n",
        "\n",
        "    def __len__(self):\n",
        "        return len(self.data[0])\n",
        "\n",
        "    def __getitem__(self, ind):\n",
        "        user_vector = self.data.data[0][ind]\n",
        "        return user_vector"
      ],
      "metadata": {
        "id": "xomUaHCfpgL5"
      },
      "execution_count": 4,
      "outputs": []
    },
    {
      "cell_type": "code",
      "source": [
        "def prepare_train_validation_movielens_step1():\n",
        "    rat = pd.read_csv(\"/content/ratings.csv\")\n",
        "    mov = pd.read_csv(\"/content/movies.csv\")\n",
        "    df_combined = pd.merge(rat, mov, on = 'movieId')\n",
        "    print(rat.describe())\n",
        "    ts = rat['timestamp'].quantile(0.98)\n",
        "    train_ratings = pd.DataFrame(columns=['userId','movieId','rating'])\n",
        "    validation_ratings = pd.DataFrame(columns=['userId','movieId','rating'])\n",
        "    for i in range(len(rat)):\n",
        "        if rat['timestamp'].iloc[i] <= ts:\n",
        "            train_ratings = pd.concat([train_ratings,pd.DataFrame([{'userId':rat['userId'].iloc[i],'movieId':rat ['movieId'].iloc[i],'rating':rat['rating'].iloc[i]}])])\n",
        "            validation_ratings = pd.concat([validation_ratings,pd.DataFrame([{'userId':rat['userId'].iloc[i],'movieId':rat['movieId'].iloc[i],'rating':rat['rating'].iloc[i]}])])\n",
        "        else:\n",
        "            validation_ratings = pd.concat([validation_ratings,pd.DataFrame([{'userId':rat['userId'].iloc[i],'movieId':rat['movieId'].iloc[i],'rating':rat['rating'].iloc[i]}])])\n",
        "        if i%10000 == 0:\n",
        "            print(i, \"Completed\")\n",
        "    print(len(train_ratings))\n",
        "    print(len(validation_ratings))\n",
        "    # Remove users in validation set those are not present in Training Set\n",
        "    train_users = train_ratings['userId'].unique()\n",
        "    users_not_in_train_set = []\n",
        "\n",
        "    for i in range(1,611):\n",
        "        if i in train_users:\n",
        "            continue\n",
        "        else:\n",
        "            users_not_in_train_set.append(i)\n",
        "\n",
        "    for i in users_not_in_train_set:\n",
        "        validation_ratings = validation_ratings[validation_ratings['userId']!=i]\n",
        "\n",
        "    validation_ratings.reset_index(drop=True)\n",
        "\n",
        "    print(len(train_ratings['movieId'].unique()))\n",
        "    print(len(validation_ratings['movieId'].unique()))\n",
        "    # Remove Movies that are not in the Train Set\n",
        "    validation_movies = validation_ratings['movieId'].unique()\n",
        "    train_movies = train_ratings['movieId'].unique()\n",
        "    movies_not_in_train_set = []\n",
        "\n",
        "    for i in validation_movies:\n",
        "        if i in train_movies:\n",
        "            continue\n",
        "        else:\n",
        "            movies_not_in_train_set.append(i)\n",
        "\n",
        "    for i in movies_not_in_train_set:\n",
        "        validation_ratings = validation_ratings[validation_ratings['movieId']!=i]\n",
        "\n",
        "    validation_ratings.reset_index(drop=True)\n",
        "    print('Train Users: ', train_ratings['userId'].nunique())\n",
        "    print('Validation Users: ',validation_ratings['userId'].nunique())\n",
        "    print('Train Movies: ',train_ratings['movieId'].nunique())\n",
        "    print('Validation Movies: ',validation_ratings['movieId'].nunique())\n",
        "    train_ratings.to_csv(\"/content/train_ratings.csv\")\n",
        "    validation_ratings.to_csv(\"/content/validation_ratings.csv\")\n",
        "\n"
      ],
      "metadata": {
        "id": "yR25Tdj_wmo6"
      },
      "execution_count": 5,
      "outputs": []
    },
    {
      "cell_type": "code",
      "source": [
        "from google.colab import drive\n",
        "drive.mount('/content/drive')\n"
      ],
      "metadata": {
        "colab": {
          "base_uri": "https://localhost:8080/"
        },
        "id": "JzKO_d2lwx4a",
        "outputId": "f8d62a56-7572-491d-f6fc-44ce7f5e3650"
      },
      "execution_count": 6,
      "outputs": [
        {
          "output_type": "stream",
          "name": "stdout",
          "text": [
            "Drive already mounted at /content/drive; to attempt to forcibly remount, call drive.mount(\"/content/drive\", force_remount=True).\n"
          ]
        }
      ]
    },
    {
      "cell_type": "code",
      "source": [
        "def prepare_traintest_movielens_step2():\n",
        "    tr_ratings = pd.read_csv('/content/train_ratings.csv')\n",
        "    val_ratings = pd.read_csv('/content/validation_ratings.csv')\n",
        "    train_dataset = tr_ratings.pivot_table(index = 'userId', columns = 'movieId', values = 'rating')\n",
        "    train_dataset.fillna(0, inplace=True)\n",
        "    print(train_dataset.head(10))\n",
        "    test_dataset = val_ratings.pivot_table(index='userId', columns='movieId', values='rating')\n",
        "    test_dataset.fillna(0, inplace=True)\n",
        "    print(test_dataset.head(10))\n",
        "    train_dataset.to_csv('/content/train.csv')\n",
        "    test_dataset.to_csv('/content/test.csv')\n",
        "\n"
      ],
      "metadata": {
        "id": "acvw1oh_wqH1"
      },
      "execution_count": 7,
      "outputs": []
    },
    {
      "cell_type": "code",
      "source": [
        "\n",
        "def get_traintestloaders():\n",
        "    transformations = transforms.Compose([transforms.ToTensor()])\n",
        "    train_dat = TrainDataset('/content/train.csv', transformations)\n",
        "    test_dat = TestDataset('/content/test.csv', transformations)\n",
        "    train_loader = DataLoader(dataset=train_dat, batch_size = 128, shuffle=True, num_workers = 1)\n",
        "    test_loader = DataLoader(dataset=test_dat, batch_size=128, shuffle=True, num_workers=1)\n",
        "    return train_loader, test_loader"
      ],
      "metadata": {
        "id": "r6R4QwEQwr3R"
      },
      "execution_count": 8,
      "outputs": []
    },
    {
      "cell_type": "code",
      "source": [
        "\n",
        "class MSELoss_with_Mask(nn.Module):\n",
        "    def __init__(self):\n",
        "        super(MSELoss_with_Mask,self).__init__()\n",
        "\n",
        "    def forward(self,inputs, targets):\n",
        "        # Masking into a vector of 1's and 0's.\n",
        "        mask = (targets!=0)\n",
        "        mask = mask.float()\n",
        "        # Actual number of ratings.\n",
        "        # Take max to avoid division by zero while calculating loss.\n",
        "        other = torch.Tensor([1.0])\n",
        "        #other = other.cuda()\n",
        "        number_ratings = torch.max(torch.sum(mask),other)\n",
        "        error = torch.sum(torch.mul(mask,torch.mul((targets-inputs),(targets-inputs))))\n",
        "        loss = error.div(number_ratings)\n",
        "        return loss[0]\n"
      ],
      "metadata": {
        "id": "K1HLFDEex5W5"
      },
      "execution_count": 26,
      "outputs": []
    },
    {
      "cell_type": "code",
      "source": [
        "\n",
        "import torch.nn.functional as F\n",
        "import torch.nn.init as init\n",
        "\n",
        "class AutoEncoder(nn.Module):\n",
        "    def __init__(self, encoder_layers_sizes, activation = 'ReLU'):\n",
        "        super(AutoEncoder, self).__init__()\n",
        "        # Add your code here\n",
        "        activation_fn = nn.ReLU() if activation == 'Relu' else nn.Sigmoid()\n",
        "\n",
        "        #Encoder\n",
        "        self.encoder = nn.Sequential(\n",
        "            nn.Linear(encoder_layers_sizes[0], encoder_layers_sizes[1]),\n",
        "            activation_fn,\n",
        "            nn.Linear(encoder_layers_sizes[1], encoder_layers_sizes[2]),\n",
        "            activation_fn,\n",
        "            nn.Linear(encoder_layers_sizes[2], encoder_layers_sizes[3]),\n",
        "            activation_fn\n",
        "        )\n",
        "        # Decoder\n",
        "        self.decoder = nn.Sequential(\n",
        "            nn.Linear(encoder_layers_sizes[3], encoder_layers_sizes[2]),\n",
        "            activation_fn,\n",
        "            nn.Linear(encoder_layers_sizes[2], encoder_layers_sizes[1]),\n",
        "            activation_fn,\n",
        "            nn.Linear(encoder_layers_sizes[1], encoder_layers_sizes[0]),\n",
        "            activation_fn\n",
        "        )\n",
        "\n",
        "    def forward(self,x):\n",
        "        # Forward Pass\n",
        "        x = x.float()#convert input to float32\n",
        "        return self.decoder(self.encoder(x))"
      ],
      "metadata": {
        "id": "qTgnvH8tx8g4"
      },
      "execution_count": 10,
      "outputs": []
    },
    {
      "cell_type": "code",
      "source": [
        "\n",
        "import torch.optim as optim\n",
        "\n",
        "def train(model, criterion, optimizer, train_dl, test_dl, num_epochs=50):\n",
        "    # Add your code here\n",
        "    train_losses, test_losses = [], []\n",
        "    device = torch.device(\"cuda\" if torch.cuda.is_available() else \"cpu\")\n",
        "    # Move the model and loss function to the device\n",
        "    model = model.to(device)\n",
        "    criterion = criterion.to(device)\n",
        "    for epoch in range(num_epochs):\n",
        "        model.train()\n",
        "        train_loss = 0.0\n",
        "        for batch_idx, data in enumerate(train_dl):\n",
        "            data = data.to(device)\n",
        "\n",
        "            optimizer.zero_grad()\n",
        "            outputs = model(data)\n",
        "            loss = criterion(outputs, data)\n",
        "            loss.backward()\n",
        "            optimizer.step()\n",
        "            train_loss += loss.item()\n",
        "        train_loss /= len(train_dl.dataset)\n",
        "        train_losses.append(train_loss)\n",
        "        model.eval()\n",
        "        test_loss = 0.0\n",
        "        with torch.no_grad():\n",
        "            for batch_idx, data in enumerate(test_dl):\n",
        "                data = data.to(device)\n",
        "\n",
        "                outputs = model(data)\n",
        "                loss = criterion(outputs, data)\n",
        "                test_loss += loss.item()\n",
        "                test_loss /= len(test_dl.dataset)\n",
        "            test_losses.append(test_loss)\n",
        "            print(f\"Epoch {epoch+1}/{num_epochs}, Train Loss: {train_loss:.4f}, Test Loss: {test_loss:.4f}\")\n",
        "\n",
        "    plt.figure(figsize=(10, 6))\n",
        "\n",
        "\n",
        "\n",
        "\n",
        "    plt.plot(train_losses, label='Train Loss')\n",
        "    plt.plot(test_losses, label='Test Loss')\n",
        "    plt.xlabel('Epoch')\n",
        "    plt.ylabel('Loss')\n",
        "    plt.legend()\n",
        "    plt.title('Training and Validation Loss Over Epochs')\n",
        "    plt.show()\n",
        "\n",
        "    return train_losses, test_losses"
      ],
      "metadata": {
        "id": "ODUgHOokyBuj"
      },
      "execution_count": 31,
      "outputs": []
    },
    {
      "cell_type": "code",
      "source": [
        "prepare_train_validation_movielens_step1()"
      ],
      "metadata": {
        "colab": {
          "base_uri": "https://localhost:8080/"
        },
        "id": "aKlMsvdyyFIO",
        "outputId": "2ed670f9-a59c-4aaa-caee-7b6123cd19d3"
      },
      "execution_count": 12,
      "outputs": [
        {
          "output_type": "stream",
          "name": "stdout",
          "text": [
            "              userId        movieId         rating     timestamp\n",
            "count  100836.000000  100836.000000  100836.000000  1.008360e+05\n",
            "mean      326.127564   19435.295718       3.501557  1.205946e+09\n",
            "std       182.618491   35530.987199       1.042529  2.162610e+08\n",
            "min         1.000000       1.000000       0.500000  8.281246e+08\n",
            "25%       177.000000    1199.000000       3.000000  1.019124e+09\n",
            "50%       325.000000    2991.000000       3.500000  1.186087e+09\n",
            "75%       477.000000    8122.000000       4.000000  1.435994e+09\n",
            "max       610.000000  193609.000000       5.000000  1.537799e+09\n",
            "0 Completed\n"
          ]
        },
        {
          "output_type": "stream",
          "name": "stderr",
          "text": [
            "<ipython-input-5-cfbfd20d9fbf>:11: FutureWarning: The behavior of DataFrame concatenation with empty or all-NA entries is deprecated. In a future version, this will no longer exclude empty or all-NA columns when determining the result dtypes. To retain the old behavior, exclude the relevant entries before the concat operation.\n",
            "  train_ratings = pd.concat([train_ratings,pd.DataFrame([{'userId':rat['userId'].iloc[i],'movieId':rat ['movieId'].iloc[i],'rating':rat['rating'].iloc[i]}])])\n",
            "<ipython-input-5-cfbfd20d9fbf>:12: FutureWarning: The behavior of DataFrame concatenation with empty or all-NA entries is deprecated. In a future version, this will no longer exclude empty or all-NA columns when determining the result dtypes. To retain the old behavior, exclude the relevant entries before the concat operation.\n",
            "  validation_ratings = pd.concat([validation_ratings,pd.DataFrame([{'userId':rat['userId'].iloc[i],'movieId':rat['movieId'].iloc[i],'rating':rat['rating'].iloc[i]}])])\n"
          ]
        },
        {
          "output_type": "stream",
          "name": "stdout",
          "text": [
            "10000 Completed\n",
            "20000 Completed\n",
            "30000 Completed\n",
            "40000 Completed\n",
            "50000 Completed\n",
            "60000 Completed\n",
            "70000 Completed\n",
            "80000 Completed\n",
            "90000 Completed\n",
            "100000 Completed\n",
            "98819\n",
            "100836\n",
            "9559\n",
            "9608\n",
            "Train Users:  595\n",
            "Validation Users:  595\n",
            "Train Movies:  9559\n",
            "Validation Movies:  9559\n"
          ]
        }
      ]
    },
    {
      "cell_type": "code",
      "source": [
        "prepare_traintest_movielens_step2()"
      ],
      "metadata": {
        "colab": {
          "base_uri": "https://localhost:8080/"
        },
        "id": "cx2FWk_S0nV1",
        "outputId": "71f5e701-ab55-470e-9ce3-47da87586c23"
      },
      "execution_count": 13,
      "outputs": [
        {
          "output_type": "stream",
          "name": "stdout",
          "text": [
            "movieId  1       2       3       4       5       6       7       8       \\\n",
            "userId                                                                    \n",
            "1           4.0     0.0     4.0     0.0     0.0     4.0     0.0     0.0   \n",
            "2           0.0     0.0     0.0     0.0     0.0     0.0     0.0     0.0   \n",
            "3           0.0     0.0     0.0     0.0     0.0     0.0     0.0     0.0   \n",
            "4           0.0     0.0     0.0     0.0     0.0     0.0     0.0     0.0   \n",
            "5           4.0     0.0     0.0     0.0     0.0     0.0     0.0     0.0   \n",
            "6           0.0     4.0     5.0     3.0     5.0     4.0     4.0     3.0   \n",
            "7           4.5     0.0     0.0     0.0     0.0     0.0     0.0     0.0   \n",
            "8           0.0     4.0     0.0     0.0     0.0     0.0     0.0     0.0   \n",
            "9           0.0     0.0     0.0     0.0     0.0     0.0     0.0     0.0   \n",
            "10          0.0     0.0     0.0     0.0     0.0     0.0     0.0     0.0   \n",
            "\n",
            "movieId  9       10      ...  184349  184471  184791  185029  185031  185135  \\\n",
            "userId                   ...                                                   \n",
            "1           0.0     0.0  ...     0.0     0.0     0.0     0.0     0.0     0.0   \n",
            "2           0.0     0.0  ...     0.0     0.0     0.0     0.0     0.0     0.0   \n",
            "3           0.0     0.0  ...     0.0     0.0     0.0     0.0     0.0     0.0   \n",
            "4           0.0     0.0  ...     0.0     0.0     0.0     0.0     0.0     0.0   \n",
            "5           0.0     0.0  ...     0.0     0.0     0.0     0.0     0.0     0.0   \n",
            "6           0.0     3.0  ...     0.0     0.0     0.0     0.0     0.0     0.0   \n",
            "7           0.0     0.0  ...     0.0     0.0     0.0     0.0     0.0     0.0   \n",
            "8           0.0     2.0  ...     0.0     0.0     0.0     0.0     0.0     0.0   \n",
            "9           0.0     0.0  ...     0.0     0.0     0.0     0.0     0.0     0.0   \n",
            "10          0.0     0.0  ...     0.0     0.0     0.0     0.0     0.0     0.0   \n",
            "\n",
            "movieId  185435  187593  187595  189547  \n",
            "userId                                   \n",
            "1           0.0     0.0     0.0     0.0  \n",
            "2           0.0     0.0     0.0     0.0  \n",
            "3           0.0     0.0     0.0     0.0  \n",
            "4           0.0     0.0     0.0     0.0  \n",
            "5           0.0     0.0     0.0     0.0  \n",
            "6           0.0     0.0     0.0     0.0  \n",
            "7           0.0     0.0     0.0     0.0  \n",
            "8           0.0     0.0     0.0     0.0  \n",
            "9           0.0     0.0     0.0     0.0  \n",
            "10          0.0     0.0     0.0     0.0  \n",
            "\n",
            "[10 rows x 9559 columns]\n",
            "movieId  1       2       3       4       5       6       7       8       \\\n",
            "userId                                                                    \n",
            "1           4.0     0.0     4.0     0.0     0.0     4.0     0.0     0.0   \n",
            "2           0.0     0.0     0.0     0.0     0.0     0.0     0.0     0.0   \n",
            "3           0.0     0.0     0.0     0.0     0.0     0.0     0.0     0.0   \n",
            "4           0.0     0.0     0.0     0.0     0.0     0.0     0.0     0.0   \n",
            "5           4.0     0.0     0.0     0.0     0.0     0.0     0.0     0.0   \n",
            "6           0.0     4.0     5.0     3.0     5.0     4.0     4.0     3.0   \n",
            "7           4.5     0.0     0.0     0.0     0.0     0.0     0.0     0.0   \n",
            "8           0.0     4.0     0.0     0.0     0.0     0.0     0.0     0.0   \n",
            "9           0.0     0.0     0.0     0.0     0.0     0.0     0.0     0.0   \n",
            "10          0.0     0.0     0.0     0.0     0.0     0.0     0.0     0.0   \n",
            "\n",
            "movieId  9       10      ...  184349  184471  184791  185029  185031  185135  \\\n",
            "userId                   ...                                                   \n",
            "1           0.0     0.0  ...     0.0     0.0     0.0     0.0     0.0     0.0   \n",
            "2           0.0     0.0  ...     0.0     0.0     0.0     0.0     0.0     0.0   \n",
            "3           0.0     0.0  ...     0.0     0.0     0.0     0.0     0.0     0.0   \n",
            "4           0.0     0.0  ...     0.0     0.0     0.0     0.0     0.0     0.0   \n",
            "5           0.0     0.0  ...     0.0     0.0     0.0     0.0     0.0     0.0   \n",
            "6           0.0     3.0  ...     0.0     0.0     0.0     0.0     0.0     0.0   \n",
            "7           0.0     0.0  ...     0.0     0.0     0.0     0.0     0.0     0.0   \n",
            "8           0.0     2.0  ...     0.0     0.0     0.0     0.0     0.0     0.0   \n",
            "9           0.0     0.0  ...     0.0     0.0     0.0     0.0     0.0     0.0   \n",
            "10          0.0     0.0  ...     0.0     0.0     0.0     0.0     0.0     0.0   \n",
            "\n",
            "movieId  185435  187593  187595  189547  \n",
            "userId                                   \n",
            "1           0.0     0.0     0.0     0.0  \n",
            "2           0.0     0.0     0.0     0.0  \n",
            "3           0.0     0.0     0.0     0.0  \n",
            "4           0.0     0.0     0.0     0.0  \n",
            "5           0.0     0.0     0.0     0.0  \n",
            "6           0.0     0.0     0.0     0.0  \n",
            "7           0.0     0.0     0.0     0.0  \n",
            "8           0.0     0.0     0.0     0.0  \n",
            "9           0.0     0.0     0.0     0.0  \n",
            "10          0.0     0.0     0.0     0.0  \n",
            "\n",
            "[10 rows x 9559 columns]\n"
          ]
        }
      ]
    },
    {
      "cell_type": "code",
      "source": [
        "train_loader, test_loader = get_traintestloaders()"
      ],
      "metadata": {
        "id": "Ca8DBEuZzSuJ"
      },
      "execution_count": 14,
      "outputs": []
    },
    {
      "cell_type": "code",
      "source": [
        "encoder_layers_sizes = [9559, 512, 512, 1024]"
      ],
      "metadata": {
        "id": "16OqxVMyzXND"
      },
      "execution_count": 15,
      "outputs": []
    },
    {
      "cell_type": "code",
      "source": [
        "model = AutoEncoder(encoder_layers_sizes, activation = 'Relu')"
      ],
      "metadata": {
        "id": "CnIt0Aptzbi4"
      },
      "execution_count": 16,
      "outputs": []
    },
    {
      "cell_type": "code",
      "source": [
        "\n",
        "model = model.cpu()"
      ],
      "metadata": {
        "id": "vVlHTA-bzeOf"
      },
      "execution_count": 18,
      "outputs": []
    },
    {
      "cell_type": "code",
      "source": [
        "criterion = MSELoss_with_Mask()"
      ],
      "metadata": {
        "id": "UUUNF126zwVT"
      },
      "execution_count": 27,
      "outputs": []
    },
    {
      "cell_type": "code",
      "source": [
        "criterion = criterion.cpu()"
      ],
      "metadata": {
        "id": "ysCpZTPAzz5N"
      },
      "execution_count": 28,
      "outputs": []
    },
    {
      "cell_type": "code",
      "source": [
        "optimizer = optim.Adam(model.parameters(), lr=0.001)"
      ],
      "metadata": {
        "id": "d7qQEGlJz20U"
      },
      "execution_count": 29,
      "outputs": []
    },
    {
      "cell_type": "code",
      "source": [
        "out = train(model, criterion, optimizer, train_loader, test_loader, 40)"
      ],
      "metadata": {
        "colab": {
          "base_uri": "https://localhost:8080/",
          "height": 1000
        },
        "id": "4lvS5Lpbz6bS",
        "outputId": "0a994be6-54cd-4292-adb4-54ecc7ede621"
      },
      "execution_count": 32,
      "outputs": [
        {
          "output_type": "stream",
          "name": "stdout",
          "text": [
            "Epoch 1/40, Train Loss: 0.0255, Test Loss: 0.0052\n",
            "Epoch 2/40, Train Loss: 0.0256, Test Loss: 0.0045\n",
            "Epoch 3/40, Train Loss: 0.0256, Test Loss: 0.0055\n",
            "Epoch 4/40, Train Loss: 0.0253, Test Loss: 0.0051\n",
            "Epoch 5/40, Train Loss: 0.0253, Test Loss: 0.0049\n",
            "Epoch 6/40, Train Loss: 0.0252, Test Loss: 0.0052\n",
            "Epoch 7/40, Train Loss: 0.0252, Test Loss: 0.0052\n",
            "Epoch 8/40, Train Loss: 0.0250, Test Loss: 0.0050\n",
            "Epoch 9/40, Train Loss: 0.0251, Test Loss: 0.0050\n",
            "Epoch 10/40, Train Loss: 0.0249, Test Loss: 0.0050\n",
            "Epoch 11/40, Train Loss: 0.0246, Test Loss: 0.0048\n",
            "Epoch 12/40, Train Loss: 0.0248, Test Loss: 0.0049\n",
            "Epoch 13/40, Train Loss: 0.0247, Test Loss: 0.0046\n",
            "Epoch 14/40, Train Loss: 0.0246, Test Loss: 0.0048\n",
            "Epoch 15/40, Train Loss: 0.0246, Test Loss: 0.0050\n",
            "Epoch 16/40, Train Loss: 0.0244, Test Loss: 0.0048\n",
            "Epoch 17/40, Train Loss: 0.0244, Test Loss: 0.0049\n",
            "Epoch 18/40, Train Loss: 0.0242, Test Loss: 0.0051\n",
            "Epoch 19/40, Train Loss: 0.0243, Test Loss: 0.0047\n",
            "Epoch 20/40, Train Loss: 0.0241, Test Loss: 0.0046\n",
            "Epoch 21/40, Train Loss: 0.0240, Test Loss: 0.0045\n",
            "Epoch 22/40, Train Loss: 0.0235, Test Loss: 0.0046\n",
            "Epoch 23/40, Train Loss: 0.0238, Test Loss: 0.0052\n",
            "Epoch 24/40, Train Loss: 0.0256, Test Loss: 0.0049\n",
            "Epoch 25/40, Train Loss: 0.0256, Test Loss: 0.0057\n",
            "Epoch 26/40, Train Loss: 0.0261, Test Loss: 0.0050\n",
            "Epoch 27/40, Train Loss: 0.0255, Test Loss: 0.0050\n",
            "Epoch 28/40, Train Loss: 0.0250, Test Loss: 0.0052\n",
            "Epoch 29/40, Train Loss: 0.0270, Test Loss: 0.0057\n",
            "Epoch 30/40, Train Loss: 0.0361, Test Loss: 0.0082\n",
            "Epoch 31/40, Train Loss: 0.0341, Test Loss: 0.0051\n",
            "Epoch 32/40, Train Loss: 0.0320, Test Loss: 0.0063\n",
            "Epoch 33/40, Train Loss: 0.0302, Test Loss: 0.0071\n",
            "Epoch 34/40, Train Loss: 0.0286, Test Loss: 0.0048\n",
            "Epoch 35/40, Train Loss: 0.0268, Test Loss: 0.0050\n",
            "Epoch 36/40, Train Loss: 0.0248, Test Loss: 0.0051\n",
            "Epoch 37/40, Train Loss: 0.0240, Test Loss: 0.0044\n",
            "Epoch 38/40, Train Loss: 0.0232, Test Loss: 0.0046\n",
            "Epoch 39/40, Train Loss: 0.0227, Test Loss: 0.0045\n",
            "Epoch 40/40, Train Loss: 0.0225, Test Loss: 0.0046\n"
          ]
        },
        {
          "output_type": "display_data",
          "data": {
            "text/plain": [
              "<Figure size 1000x600 with 1 Axes>"
            ],
            "image/png": "[encoded data removed]"
          },
          "metadata": {}
        }
      ]
    },
    {
      "cell_type": "code",
      "source": [
        "device = torch.device('cuda' if torch.cuda.is_available() else 'cpu')"
      ],
      "metadata": {
        "id": "CQAl-lgrDKAL"
      },
      "execution_count": 33,
      "outputs": []
    },
    {
      "cell_type": "code",
      "source": [
        "import matplotlib.pyplot as plt\n",
        "import torch.optim as optim\n",
        "import torch\n",
        "\n",
        "# Function to recommend items for a specific user\n",
        "def recommend_for_user(model, user_ratings, top_n=5, device='cpu'):\n",
        "    \"\"\"\n",
        "    Generate recommendations for a single user based on their existing ratings.\n",
        "\n",
        "    Parameters:\n",
        "    - model: Trained AutoEncoder model\n",
        "    - user_ratings: Tensor of the user's ratings (with 0 for unrated items)\n",
        "    - top_n: Number of top recommendations to return\n",
        "    - device: Device on which the model runs ('cpu' or 'cuda')\n",
        "\n",
        "    Returns:\n",
        "    - List of indices representing the recommended items\n",
        "    \"\"\"\n",
        "    # Move user_ratings to the correct device and ensure it's float32\n",
        "    user_ratings = user_ratings.to(device).float().unsqueeze(0)  # Add batch dimension\n",
        "\n",
        "    # Pass the user ratings through the autoencoder to get reconstructed ratings\n",
        "    model.eval()\n",
        "    with torch.no_grad():\n",
        "        reconstructed_ratings = model(user_ratings).squeeze(0)  # Remove batch dimension\n",
        "\n",
        "    # Mask out already-rated items by setting their scores to a very low value\n",
        "    mask = user_ratings.squeeze(0) == 0  # True for unrated items\n",
        "    masked_ratings = reconstructed_ratings * mask  # Set rated items' scores to 0\n",
        "\n",
        "    # Get indices of the top N recommendations\n",
        "    recommended_indices = torch.argsort(masked_ratings, descending=True)[:top_n]\n",
        "\n",
        "    return recommended_indices.tolist()"
      ],
      "metadata": {
        "id": "IgHYOXirD5cJ"
      },
      "execution_count": 36,
      "outputs": []
    },
    {
      "cell_type": "code",
      "source": [
        " # Generate recommendations for a sample user\n",
        "model.eval()"
      ],
      "metadata": {
        "colab": {
          "base_uri": "https://localhost:8080/"
        },
        "id": "h3Fu8tNeEBYa",
        "outputId": "8431729f-a52a-47ff-f332-2ba8362125b6"
      },
      "execution_count": 37,
      "outputs": [
        {
          "output_type": "execute_result",
          "data": {
            "text/plain": [
              "AutoEncoder(\n",
              "  (encoder): Sequential(\n",
              "    (0): Linear(in_features=9559, out_features=512, bias=True)\n",
              "    (1): ReLU()\n",
              "    (2): Linear(in_features=512, out_features=512, bias=True)\n",
              "    (3): ReLU()\n",
              "    (4): Linear(in_features=512, out_features=1024, bias=True)\n",
              "    (5): ReLU()\n",
              "  )\n",
              "  (decoder): Sequential(\n",
              "    (0): Linear(in_features=1024, out_features=512, bias=True)\n",
              "    (1): ReLU()\n",
              "    (2): Linear(in_features=512, out_features=512, bias=True)\n",
              "    (3): ReLU()\n",
              "    (4): Linear(in_features=512, out_features=9559, bias=True)\n",
              "    (5): ReLU()\n",
              "  )\n",
              ")"
            ]
          },
          "metadata": {},
          "execution_count": 37
        }
      ]
    },
    {
      "cell_type": "code",
      "source": [
        "sample_user_ratings = next(iter(train_loader))  # Get a batch of user ratings from the training data"
      ],
      "metadata": {
        "id": "Jewi2Pe3EEQO"
      },
      "execution_count": 38,
      "outputs": []
    },
    {
      "cell_type": "code",
      "source": [
        "user_idx = 0  # Index of the user in the batch to generate recommendations"
      ],
      "metadata": {
        "id": "geRm59E_EOC8"
      },
      "execution_count": 39,
      "outputs": []
    },
    {
      "cell_type": "code",
      "source": [
        "  # Get reconstructed ratings\n",
        "with torch.no_grad():\n",
        "    reconstructed_data = model(sample_user_ratings[user_idx].to(device).float())\n",
        "\n",
        "print(\"Original ratings for the user:\")\n",
        "print(sample_user_ratings[user_idx])\n",
        "\n",
        "print(\"\\nReconstructed (predicted) ratings for the user:\")\n",
        "print(reconstructed_data)\n"
      ],
      "metadata": {
        "colab": {
          "base_uri": "https://localhost:8080/"
        },
        "id": "EovNMHpxEoE6",
        "outputId": "321b4976-f3da-4836-cfce-e9f4d6350e53"
      },
      "execution_count": 41,
      "outputs": [
        {
          "output_type": "stream",
          "name": "stdout",
          "text": [
            "Original ratings for the user:\n",
            "tensor([4., 0., 4.,  ..., 0., 0., 0.], dtype=torch.float64)\n",
            "\n",
            "Reconstructed (predicted) ratings for the user:\n",
            "tensor([4.7436, 4.3404, 4.3514,  ..., 4.2099, 4.3169, 1.0630])\n"
          ]
        }
      ]
    },
    {
      "cell_type": "code",
      "source": [
        "recommendations = recommend_for_user(model, sample_user_ratings[user_idx], top_n=5, device=device)\n",
        "print(f\"Top recommendations for user {user_idx + 1}: {recommendations}\")"
      ],
      "metadata": {
        "colab": {
          "base_uri": "https://localhost:8080/"
        },
        "id": "-o5K8d8HEREz",
        "outputId": "bcb36cb8-8306-4890-c6f6-7c984abf56cb"
      },
      "execution_count": 40,
      "outputs": [
        {
          "output_type": "stream",
          "name": "stdout",
          "text": [
            "Top recommendations for user 1: [6006, 5173, 9168, 8880, 4574]\n"
          ]
        }
      ]
    }
  ]
}