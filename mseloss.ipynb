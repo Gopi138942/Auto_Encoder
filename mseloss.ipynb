{
  "nbformat": 4,
  "nbformat_minor": 0,
  "metadata": {
    "colab": {
      "provenance": [],
      "authorship_tag": "ABX9TyO0bG5cx0rmKwZSS6JS3I6k",
      "include_colab_link": true
    },
    "kernelspec": {
      "name": "python3",
      "display_name": "Python 3"
    },
    "language_info": {
      "name": "python"
    }
  },
  "cells": [
    {
      "cell_type": "markdown",
      "metadata": {
        "id": "view-in-github",
        "colab_type": "text"
      },
      "source": [
        "<a href=\"https://colab.research.google.com/github/Gopi138942/Auto_Encoder/blob/main/mseloss.ipynb\" target=\"_parent\"><img src=\"https://colab.research.google.com/assets/colab-badge.svg\" alt=\"Open In Colab\"/></a>"
      ]
    },
    {
      "cell_type": "code",
      "execution_count": 1,
      "metadata": {
        "id": "s6CY4Ba-O7Vi"
      },
      "outputs": [],
      "source": [
        "import pandas as pd\n",
        "import numpy as np\n",
        "import torch\n",
        "import torch.nn as nn\n",
        "from torch.utils.data import Dataset, DataLoader\n",
        "from torchvision import transforms\n",
        "import matplotlib.pyplot as plt"
      ]
    },
    {
      "cell_type": "code",
      "source": [
        "class TrainDataset(Dataset):\n",
        "    def __init__(self, train_file, transform=None):\n",
        "        self.data = pd.read_csv(train_file)\n",
        "        self.data = self.data.iloc[:,1:]\n",
        "        self.transform = transform\n",
        "        if transform is not None:\n",
        "            self.data = self.transform(np.array(self.data))\n",
        "\n",
        "    def __len__(self):\n",
        "        return len(self.data[0])\n",
        "\n",
        "    def __getitem__(self, ind):\n",
        "        user_vector = self.data.data[0][ind]\n",
        "        return user_vector"
      ],
      "metadata": {
        "id": "AIKmSvAiPdnz"
      },
      "execution_count": 2,
      "outputs": []
    },
    {
      "cell_type": "code",
      "source": [
        "class TestDataset(Dataset):\n",
        "    def __init__(self, test_file, transform=None):\n",
        "        self.data = pd.read_csv(test_file)\n",
        "        self.data = self.data.iloc[:,1:]\n",
        "        self.transform = transform\n",
        "        if transform is not None:\n",
        "            self.data = self.transform(np.array(self.data))\n",
        "\n",
        "    def __len__(self):\n",
        "        return len(self.data[0])\n",
        "\n",
        "    def __getitem__(self, ind):\n",
        "        user_vector = self.data.data[0][ind]\n",
        "        return user_vector"
      ],
      "metadata": {
        "id": "OcKHHz6BPc2H"
      },
      "execution_count": 3,
      "outputs": []
    },
    {
      "cell_type": "code",
      "source": [
        "def prepare_train_validation_movielens_step1():\n",
        "    rat = pd.read_csv('/content/ratings.csv')\n",
        "    mov = pd.read_csv('/content/movies.csv')\n",
        "    df_combined = pd.merge(rat, mov, on = 'movieId')\n",
        "    print(rat.describe())\n",
        "    ts = rat['timestamp'].quantile(0.98)\n",
        "    train_ratings = pd.DataFrame(columns=['userId','movieId','rating'])\n",
        "    validation_ratings = pd.DataFrame(columns=['userId','movieId','rating'])\n",
        "    for i in range(len(rat)):\n",
        "        if rat['timestamp'].iloc[i] <= ts:\n",
        "            train_ratings = pd.concat([train_ratings,pd.DataFrame([{'userId':rat['userId'].iloc[i],'movieId':rat ['movieId'].iloc[i],'rating':rat['rating'].iloc[i]}])])\n",
        "            validation_ratings = pd.concat([validation_ratings,pd.DataFrame([{'userId':rat['userId'].iloc[i],'movieId':rat['movieId'].iloc[i],'rating':rat['rating'].iloc[i]}])])\n",
        "        else:\n",
        "            validation_ratings = pd.concat([validation_ratings,pd.DataFrame([{'userId':rat['userId'].iloc[i],'movieId':rat['movieId'].iloc[i],'rating':rat['rating'].iloc[i]}])])\n",
        "        if i%10000 == 0:\n",
        "            print(i, \"Completed\")\n",
        "    print(len(train_ratings))\n",
        "    print(len(validation_ratings))\n",
        "    # Remove users in validation set those are not present in Training Set\n",
        "    train_users = train_ratings['userId'].unique()\n",
        "    users_not_in_train_set = []\n",
        "\n",
        "    for i in range(1,611):\n",
        "        if i in train_users:\n",
        "            continue\n",
        "        else:\n",
        "            users_not_in_train_set.append(i)\n",
        "\n",
        "    for i in users_not_in_train_set:\n",
        "        validation_ratings = validation_ratings[validation_ratings['userId']!=i]\n",
        "\n",
        "    validation_ratings.reset_index(drop=True)\n",
        "\n",
        "    print(len(train_ratings['movieId'].unique()))\n",
        "    print(len(validation_ratings['movieId'].unique()))\n",
        "    # Remove Movies that are not in the Train Set\n",
        "    validation_movies = validation_ratings['movieId'].unique()\n",
        "    train_movies = train_ratings['movieId'].unique()\n",
        "    movies_not_in_train_set = []\n",
        "\n",
        "    for i in validation_movies:\n",
        "        if i in train_movies:\n",
        "            continue\n",
        "        else:\n",
        "            movies_not_in_train_set.append(i)\n",
        "\n",
        "    for i in movies_not_in_train_set:\n",
        "        validation_ratings = validation_ratings[validation_ratings['movieId']!=i]\n",
        "\n",
        "    validation_ratings.reset_index(drop=True)\n",
        "    print('Train Users: ', train_ratings['userId'].nunique())\n",
        "    print('Validation Users: ',validation_ratings['userId'].nunique())\n",
        "    print('Train Movies: ',train_ratings['movieId'].nunique())\n",
        "    print('Validation Movies: ',validation_ratings['movieId'].nunique())\n",
        "    train_ratings.to_csv(\"/content/train_ratings.csv\")\n",
        "    validation_ratings.to_csv(\"/content/validation_ratings.csv\")"
      ],
      "metadata": {
        "id": "bMk9Yx5oPpX5"
      },
      "execution_count": 4,
      "outputs": []
    },
    {
      "cell_type": "code",
      "source": [
        "from google.colab import drive\n",
        "drive.mount('/content/drive')"
      ],
      "metadata": {
        "colab": {
          "base_uri": "https://localhost:8080/"
        },
        "id": "PT8cAbpkPtj5",
        "outputId": "c790be4c-c5fb-40f5-b1ea-7824f7b22e36"
      },
      "execution_count": 5,
      "outputs": [
        {
          "output_type": "stream",
          "name": "stdout",
          "text": [
            "Drive already mounted at /content/drive; to attempt to forcibly remount, call drive.mount(\"/content/drive\", force_remount=True).\n"
          ]
        }
      ]
    },
    {
      "cell_type": "code",
      "source": [
        "def prepare_traintest_movielens_step2():\n",
        "    tr_ratings = pd.read_csv(\"/content/train_ratings.csv\")\n",
        "    val_ratings = pd.read_csv(\"/content/validation_ratings.csv\")\n",
        "    train_dataset = tr_ratings.pivot_table(index = 'userId', columns = 'movieId', values = 'rating')\n",
        "    train_dataset.fillna(0, inplace=True)\n",
        "    print(train_dataset.head(10))\n",
        "    test_dataset = val_ratings.pivot_table(index='userId', columns='movieId', values='rating')\n",
        "    test_dataset.fillna(0, inplace=True)\n",
        "    print(test_dataset.head(10))\n",
        "    train_dataset.to_csv('/content/train.csv')\n",
        "    test_dataset.to_csv('/content/test.csv')"
      ],
      "metadata": {
        "id": "jmEWDH43Pytu"
      },
      "execution_count": 6,
      "outputs": []
    },
    {
      "cell_type": "code",
      "source": [
        "def get_traintestloaders():\n",
        "    transformations = transforms.Compose([transforms.ToTensor()])\n",
        "    train_dat = TrainDataset('/content/train.csv', transformations)\n",
        "    test_dat = TestDataset('/content/test.csv', transformations)\n",
        "    train_loader = DataLoader(dataset=train_dat, batch_size = 128, shuffle=True, num_workers = 1)\n",
        "    test_loader = DataLoader(dataset=test_dat, batch_size=128, shuffle=True, num_workers=1)\n",
        "    return train_loader, test_loader"
      ],
      "metadata": {
        "id": "Adf2vNFnP7TZ"
      },
      "execution_count": 7,
      "outputs": []
    },
    {
      "cell_type": "code",
      "source": [
        "class MSELoss_with_Mask(nn.Module):\n",
        "    def __init__(self):\n",
        "        super(MSELoss_with_Mask,self).__init__()\n",
        "\n",
        "    def forward(self,inputs, targets):\n",
        "        # Masking into a vector of 1's and 0's.\n",
        "        mask = (targets!=0)\n",
        "        mask = mask.float()\n",
        "        # Actual number of ratings.\n",
        "        # Take max to avoid division by zero while calculating loss.\n",
        "        other = torch.Tensor([1.0])\n",
        "        #other = other.cuda()\n",
        "        number_ratings = torch.max(torch.sum(mask),other)\n",
        "        error = torch.sum(torch.mul(mask,torch.mul((targets-inputs),(targets-inputs))))\n",
        "        loss = error.div(number_ratings)\n",
        "        return loss[0]"
      ],
      "metadata": {
        "id": "TVM-TK29QAd9"
      },
      "execution_count": 21,
      "outputs": []
    },
    {
      "cell_type": "code",
      "source": [
        "import torch.nn.functional as F\n",
        "import torch.nn.init as init\n",
        "import torch.nn as nn\n",
        "\n",
        "class AutoEncoder(nn.Module):\n",
        "    def __init__(self):\n",
        "        super(AutoEncoder, self).__init__()\n",
        "\n",
        "        # Encoder layers\n",
        "        self.encoder = nn.Sequential(\n",
        "            nn.Linear(9559, 512),\n",
        "            nn.ReLU(),\n",
        "            nn.Linear(512, 512),\n",
        "            nn.ReLU(),\n",
        "            nn.Linear(512, 1024),\n",
        "            nn.ReLU(),\n",
        "        )\n",
        "\n",
        "        # Decoder layers - the final layer's output dimension should match the input dimension (9559)\n",
        "        self.decoder = nn.Sequential(\n",
        "            nn.Linear(1024, 512),\n",
        "            nn.ReLU(),\n",
        "            nn.Linear(512, 512),\n",
        "            nn.ReLU(),\n",
        "            nn.Linear(512, 9559),  # Output dimension should match input dimension\n",
        "        )\n",
        "\n",
        "    def forward(self, x):\n",
        "        x = self.encoder(x)\n",
        "        x = self.decoder(x)\n",
        "        return x"
      ],
      "metadata": {
        "id": "f1bI4flnP_39"
      },
      "execution_count": 9,
      "outputs": []
    },
    {
      "cell_type": "code",
      "source": [
        "def train(model, criterion, optimizer, train_loader, val_loader, num_epochs=50, device='cpu'):\n",
        "    train_losses = []\n",
        "    val_losses = []\n",
        "\n",
        "    for epoch in range(num_epochs):\n",
        "        model.train()\n",
        "        running_loss = 0.0\n",
        "\n",
        "        for inputs in train_loader:\n",
        "            inputs = inputs.to(device).float()  # Ensure inputs are float32\n",
        "            optimizer.zero_grad()\n",
        "\n",
        "            # Forward pass\n",
        "            outputs = model(inputs)\n",
        "            loss = criterion(outputs, inputs)\n",
        "            loss.backward()\n",
        "            optimizer.step()\n",
        "\n",
        "            running_loss += loss.item() * inputs.size(0)\n",
        "\n",
        "        # Calculate average training loss for the epoch\n",
        "        train_loss = running_loss / len(train_loader.dataset)\n",
        "        train_losses.append(train_loss)\n",
        "\n",
        "        # Validation phase\n",
        "        model.eval()\n",
        "        val_loss = 0.0\n",
        "        with torch.no_grad():\n",
        "            for inputs in val_loader:\n",
        "                inputs = inputs.to(device).float()  # Ensure inputs are float32\n",
        "                outputs = model(inputs)\n",
        "                loss = criterion(outputs, inputs)\n",
        "                val_loss += loss.item() * inputs.size(0)\n",
        "\n",
        "        val_loss /= len(val_loader.dataset)\n",
        "        val_losses.append(val_loss)\n",
        "\n",
        "        print(f\"Epoch {epoch+1}/{num_epochs}, Training Loss (MMSE): {train_loss:.4f}, Validation Loss (MMSE): {val_loss:.4f}\")\n",
        "\n",
        "    return train_losses, val_losses"
      ],
      "metadata": {
        "id": "LLqtINX3Qk07"
      },
      "execution_count": 10,
      "outputs": []
    },
    {
      "cell_type": "code",
      "source": [
        "# Install CUDA if not already installed. Only run this cell once.\n",
        "!apt-get install nvidia-cuda-toolkit\n"
      ],
      "metadata": {
        "colab": {
          "base_uri": "https://localhost:8080/"
        },
        "id": "8DWVgpiTZxL5",
        "outputId": "d33afa64-ed54-4e30-bc86-bef62599e2e6"
      },
      "execution_count": 12,
      "outputs": [
        {
          "output_type": "stream",
          "name": "stdout",
          "text": [
            "Reading package lists... Done\n",
            "Building dependency tree... Done\n",
            "Reading state information... Done\n",
            "nvidia-cuda-toolkit is already the newest version (11.5.1-1ubuntu1).\n",
            "0 upgraded, 0 newly installed, 0 to remove and 30 not upgraded.\n"
          ]
        }
      ]
    },
    {
      "cell_type": "code",
      "source": [
        "# Verify CUDA installation:\n",
        "!nvidia-smi"
      ],
      "metadata": {
        "colab": {
          "base_uri": "https://localhost:8080/"
        },
        "id": "v9pKBUqHZ9YH",
        "outputId": "1ce95ab2-f713-4812-8c7e-707284761637"
      },
      "execution_count": 13,
      "outputs": [
        {
          "output_type": "stream",
          "name": "stdout",
          "text": [
            "/bin/bash: line 1: nvidia-smi: command not found\n"
          ]
        }
      ]
    },
    {
      "cell_type": "code",
      "source": [
        "prepare_train_validation_movielens_step1()"
      ],
      "metadata": {
        "colab": {
          "base_uri": "https://localhost:8080/"
        },
        "id": "a475HSrOaFJP",
        "outputId": "27c5be30-8571-4177-8ffb-b1616a6fba1f"
      },
      "execution_count": 14,
      "outputs": [
        {
          "output_type": "stream",
          "name": "stdout",
          "text": [
            "              userId        movieId         rating     timestamp\n",
            "count  100836.000000  100836.000000  100836.000000  1.008360e+05\n",
            "mean      326.127564   19435.295718       3.501557  1.205946e+09\n",
            "std       182.618491   35530.987199       1.042529  2.162610e+08\n",
            "min         1.000000       1.000000       0.500000  8.281246e+08\n",
            "25%       177.000000    1199.000000       3.000000  1.019124e+09\n",
            "50%       325.000000    2991.000000       3.500000  1.186087e+09\n",
            "75%       477.000000    8122.000000       4.000000  1.435994e+09\n",
            "max       610.000000  193609.000000       5.000000  1.537799e+09\n",
            "0 Completed\n"
          ]
        },
        {
          "output_type": "stream",
          "name": "stderr",
          "text": [
            "<ipython-input-4-cf043bd55686>:11: FutureWarning: The behavior of DataFrame concatenation with empty or all-NA entries is deprecated. In a future version, this will no longer exclude empty or all-NA columns when determining the result dtypes. To retain the old behavior, exclude the relevant entries before the concat operation.\n",
            "  train_ratings = pd.concat([train_ratings,pd.DataFrame([{'userId':rat['userId'].iloc[i],'movieId':rat ['movieId'].iloc[i],'rating':rat['rating'].iloc[i]}])])\n",
            "<ipython-input-4-cf043bd55686>:12: FutureWarning: The behavior of DataFrame concatenation with empty or all-NA entries is deprecated. In a future version, this will no longer exclude empty or all-NA columns when determining the result dtypes. To retain the old behavior, exclude the relevant entries before the concat operation.\n",
            "  validation_ratings = pd.concat([validation_ratings,pd.DataFrame([{'userId':rat['userId'].iloc[i],'movieId':rat['movieId'].iloc[i],'rating':rat['rating'].iloc[i]}])])\n"
          ]
        },
        {
          "output_type": "stream",
          "name": "stdout",
          "text": [
            "10000 Completed\n",
            "20000 Completed\n",
            "30000 Completed\n",
            "40000 Completed\n",
            "50000 Completed\n",
            "60000 Completed\n",
            "70000 Completed\n",
            "80000 Completed\n",
            "90000 Completed\n",
            "100000 Completed\n",
            "98819\n",
            "100836\n",
            "9559\n",
            "9608\n",
            "Train Users:  595\n",
            "Validation Users:  595\n",
            "Train Movies:  9559\n",
            "Validation Movies:  9559\n"
          ]
        }
      ]
    },
    {
      "cell_type": "code",
      "source": [
        "prepare_traintest_movielens_step2()"
      ],
      "metadata": {
        "colab": {
          "base_uri": "https://localhost:8080/"
        },
        "id": "QrRHKkZBaHX-",
        "outputId": "2e7e3910-f3ac-4682-dc67-0b2c7ad9de59"
      },
      "execution_count": 15,
      "outputs": [
        {
          "output_type": "stream",
          "name": "stdout",
          "text": [
            "movieId  1       2       3       4       5       6       7       8       \\\n",
            "userId                                                                    \n",
            "1           4.0     0.0     4.0     0.0     0.0     4.0     0.0     0.0   \n",
            "2           0.0     0.0     0.0     0.0     0.0     0.0     0.0     0.0   \n",
            "3           0.0     0.0     0.0     0.0     0.0     0.0     0.0     0.0   \n",
            "4           0.0     0.0     0.0     0.0     0.0     0.0     0.0     0.0   \n",
            "5           4.0     0.0     0.0     0.0     0.0     0.0     0.0     0.0   \n",
            "6           0.0     4.0     5.0     3.0     5.0     4.0     4.0     3.0   \n",
            "7           4.5     0.0     0.0     0.0     0.0     0.0     0.0     0.0   \n",
            "8           0.0     4.0     0.0     0.0     0.0     0.0     0.0     0.0   \n",
            "9           0.0     0.0     0.0     0.0     0.0     0.0     0.0     0.0   \n",
            "10          0.0     0.0     0.0     0.0     0.0     0.0     0.0     0.0   \n",
            "\n",
            "movieId  9       10      ...  184349  184471  184791  185029  185031  185135  \\\n",
            "userId                   ...                                                   \n",
            "1           0.0     0.0  ...     0.0     0.0     0.0     0.0     0.0     0.0   \n",
            "2           0.0     0.0  ...     0.0     0.0     0.0     0.0     0.0     0.0   \n",
            "3           0.0     0.0  ...     0.0     0.0     0.0     0.0     0.0     0.0   \n",
            "4           0.0     0.0  ...     0.0     0.0     0.0     0.0     0.0     0.0   \n",
            "5           0.0     0.0  ...     0.0     0.0     0.0     0.0     0.0     0.0   \n",
            "6           0.0     3.0  ...     0.0     0.0     0.0     0.0     0.0     0.0   \n",
            "7           0.0     0.0  ...     0.0     0.0     0.0     0.0     0.0     0.0   \n",
            "8           0.0     2.0  ...     0.0     0.0     0.0     0.0     0.0     0.0   \n",
            "9           0.0     0.0  ...     0.0     0.0     0.0     0.0     0.0     0.0   \n",
            "10          0.0     0.0  ...     0.0     0.0     0.0     0.0     0.0     0.0   \n",
            "\n",
            "movieId  185435  187593  187595  189547  \n",
            "userId                                   \n",
            "1           0.0     0.0     0.0     0.0  \n",
            "2           0.0     0.0     0.0     0.0  \n",
            "3           0.0     0.0     0.0     0.0  \n",
            "4           0.0     0.0     0.0     0.0  \n",
            "5           0.0     0.0     0.0     0.0  \n",
            "6           0.0     0.0     0.0     0.0  \n",
            "7           0.0     0.0     0.0     0.0  \n",
            "8           0.0     0.0     0.0     0.0  \n",
            "9           0.0     0.0     0.0     0.0  \n",
            "10          0.0     0.0     0.0     0.0  \n",
            "\n",
            "[10 rows x 9559 columns]\n",
            "movieId  1       2       3       4       5       6       7       8       \\\n",
            "userId                                                                    \n",
            "1           4.0     0.0     4.0     0.0     0.0     4.0     0.0     0.0   \n",
            "2           0.0     0.0     0.0     0.0     0.0     0.0     0.0     0.0   \n",
            "3           0.0     0.0     0.0     0.0     0.0     0.0     0.0     0.0   \n",
            "4           0.0     0.0     0.0     0.0     0.0     0.0     0.0     0.0   \n",
            "5           4.0     0.0     0.0     0.0     0.0     0.0     0.0     0.0   \n",
            "6           0.0     4.0     5.0     3.0     5.0     4.0     4.0     3.0   \n",
            "7           4.5     0.0     0.0     0.0     0.0     0.0     0.0     0.0   \n",
            "8           0.0     4.0     0.0     0.0     0.0     0.0     0.0     0.0   \n",
            "9           0.0     0.0     0.0     0.0     0.0     0.0     0.0     0.0   \n",
            "10          0.0     0.0     0.0     0.0     0.0     0.0     0.0     0.0   \n",
            "\n",
            "movieId  9       10      ...  184349  184471  184791  185029  185031  185135  \\\n",
            "userId                   ...                                                   \n",
            "1           0.0     0.0  ...     0.0     0.0     0.0     0.0     0.0     0.0   \n",
            "2           0.0     0.0  ...     0.0     0.0     0.0     0.0     0.0     0.0   \n",
            "3           0.0     0.0  ...     0.0     0.0     0.0     0.0     0.0     0.0   \n",
            "4           0.0     0.0  ...     0.0     0.0     0.0     0.0     0.0     0.0   \n",
            "5           0.0     0.0  ...     0.0     0.0     0.0     0.0     0.0     0.0   \n",
            "6           0.0     3.0  ...     0.0     0.0     0.0     0.0     0.0     0.0   \n",
            "7           0.0     0.0  ...     0.0     0.0     0.0     0.0     0.0     0.0   \n",
            "8           0.0     2.0  ...     0.0     0.0     0.0     0.0     0.0     0.0   \n",
            "9           0.0     0.0  ...     0.0     0.0     0.0     0.0     0.0     0.0   \n",
            "10          0.0     0.0  ...     0.0     0.0     0.0     0.0     0.0     0.0   \n",
            "\n",
            "movieId  185435  187593  187595  189547  \n",
            "userId                                   \n",
            "1           0.0     0.0     0.0     0.0  \n",
            "2           0.0     0.0     0.0     0.0  \n",
            "3           0.0     0.0     0.0     0.0  \n",
            "4           0.0     0.0     0.0     0.0  \n",
            "5           0.0     0.0     0.0     0.0  \n",
            "6           0.0     0.0     0.0     0.0  \n",
            "7           0.0     0.0     0.0     0.0  \n",
            "8           0.0     0.0     0.0     0.0  \n",
            "9           0.0     0.0     0.0     0.0  \n",
            "10          0.0     0.0     0.0     0.0  \n",
            "\n",
            "[10 rows x 9559 columns]\n"
          ]
        }
      ]
    },
    {
      "cell_type": "code",
      "source": [
        " # Determine the device (CPU or GPU)\n",
        "device = torch.device('cuda' if torch.cuda.is_available() else 'cpu')\n",
        "print(f\"Using device: {device}\")"
      ],
      "metadata": {
        "colab": {
          "base_uri": "https://localhost:8080/"
        },
        "id": "_w22o77FaKlN",
        "outputId": "c568bf14-bccd-4113-e247-925faacabdc1"
      },
      "execution_count": 16,
      "outputs": [
        {
          "output_type": "stream",
          "name": "stdout",
          "text": [
            "Using device: cpu\n"
          ]
        }
      ]
    },
    {
      "cell_type": "code",
      "source": [
        "# Load data\n",
        "train_loader, test_loader = get_traintestloaders()"
      ],
      "metadata": {
        "id": "TnX7JsNXaPEO"
      },
      "execution_count": 17,
      "outputs": []
    },
    {
      "cell_type": "code",
      "source": [
        "model = AutoEncoder().to(device)"
      ],
      "metadata": {
        "id": "t5zQ_-mjaR-k"
      },
      "execution_count": 18,
      "outputs": []
    },
    {
      "cell_type": "code",
      "source": [
        "\n",
        "criterion = MSELoss_with_Mask().to(device)\n",
        "optimizer = optim.Adam(model.parameters(), lr=0.001)"
      ],
      "metadata": {
        "id": "sk7zWkIuaR8-"
      },
      "execution_count": 22,
      "outputs": []
    },
    {
      "cell_type": "code",
      "source": [
        "# Train the model and capture training and validation losses\n",
        "train_losses, val_losses = train(model, criterion, optimizer, train_loader, test_loader, num_epochs=40, device=device)\n"
      ],
      "metadata": {
        "colab": {
          "base_uri": "https://localhost:8080/"
        },
        "id": "V0UcipBkaX2r",
        "outputId": "df410ceb-0abf-4194-c27b-5983a470be9a"
      },
      "execution_count": 23,
      "outputs": [
        {
          "output_type": "stream",
          "name": "stdout",
          "text": [
            "Epoch 1/40, Training Loss (MMSE): 11.4976, Validation Loss (MMSE): 8.1488\n",
            "Epoch 2/40, Training Loss (MMSE): 8.3323, Validation Loss (MMSE): 7.1210\n",
            "Epoch 3/40, Training Loss (MMSE): 5.6360, Validation Loss (MMSE): 4.6297\n",
            "Epoch 4/40, Training Loss (MMSE): 5.7179, Validation Loss (MMSE): 3.7338\n",
            "Epoch 5/40, Training Loss (MMSE): 3.4393, Validation Loss (MMSE): 2.9073\n",
            "Epoch 6/40, Training Loss (MMSE): 2.8161, Validation Loss (MMSE): 2.5443\n",
            "Epoch 7/40, Training Loss (MMSE): 2.3472, Validation Loss (MMSE): 2.2088\n",
            "Epoch 8/40, Training Loss (MMSE): 2.1320, Validation Loss (MMSE): 1.9906\n",
            "Epoch 9/40, Training Loss (MMSE): 2.0198, Validation Loss (MMSE): 2.1801\n",
            "Epoch 10/40, Training Loss (MMSE): 1.9383, Validation Loss (MMSE): 1.5607\n",
            "Epoch 11/40, Training Loss (MMSE): 1.6648, Validation Loss (MMSE): 2.1074\n",
            "Epoch 12/40, Training Loss (MMSE): 1.8008, Validation Loss (MMSE): 1.2927\n",
            "Epoch 13/40, Training Loss (MMSE): 1.5012, Validation Loss (MMSE): 1.7167\n",
            "Epoch 14/40, Training Loss (MMSE): 2.0108, Validation Loss (MMSE): 1.7634\n",
            "Epoch 15/40, Training Loss (MMSE): 1.7429, Validation Loss (MMSE): 1.4683\n",
            "Epoch 16/40, Training Loss (MMSE): 1.5166, Validation Loss (MMSE): 2.0480\n",
            "Epoch 17/40, Training Loss (MMSE): 1.7400, Validation Loss (MMSE): 1.7377\n",
            "Epoch 18/40, Training Loss (MMSE): 1.4688, Validation Loss (MMSE): 1.1456\n",
            "Epoch 19/40, Training Loss (MMSE): 1.2898, Validation Loss (MMSE): 1.0766\n",
            "Epoch 20/40, Training Loss (MMSE): 1.3397, Validation Loss (MMSE): 1.6699\n",
            "Epoch 21/40, Training Loss (MMSE): 1.5505, Validation Loss (MMSE): 1.8914\n",
            "Epoch 22/40, Training Loss (MMSE): 1.2862, Validation Loss (MMSE): 1.3194\n",
            "Epoch 23/40, Training Loss (MMSE): 1.1753, Validation Loss (MMSE): 0.9105\n",
            "Epoch 24/40, Training Loss (MMSE): 1.0253, Validation Loss (MMSE): 0.9257\n",
            "Epoch 25/40, Training Loss (MMSE): 1.0005, Validation Loss (MMSE): 0.9970\n",
            "Epoch 26/40, Training Loss (MMSE): 0.9086, Validation Loss (MMSE): 1.0024\n",
            "Epoch 27/40, Training Loss (MMSE): 0.8984, Validation Loss (MMSE): 0.8030\n",
            "Epoch 28/40, Training Loss (MMSE): 0.8137, Validation Loss (MMSE): 0.7389\n",
            "Epoch 29/40, Training Loss (MMSE): 0.7905, Validation Loss (MMSE): 0.8324\n",
            "Epoch 30/40, Training Loss (MMSE): 0.7770, Validation Loss (MMSE): 0.7825\n",
            "Epoch 31/40, Training Loss (MMSE): 0.7447, Validation Loss (MMSE): 0.6874\n",
            "Epoch 32/40, Training Loss (MMSE): 0.7072, Validation Loss (MMSE): 0.6961\n",
            "Epoch 33/40, Training Loss (MMSE): 0.6942, Validation Loss (MMSE): 0.7088\n",
            "Epoch 34/40, Training Loss (MMSE): 0.6973, Validation Loss (MMSE): 0.6693\n",
            "Epoch 35/40, Training Loss (MMSE): 0.6744, Validation Loss (MMSE): 0.6597\n",
            "Epoch 36/40, Training Loss (MMSE): 0.6666, Validation Loss (MMSE): 0.6719\n",
            "Epoch 37/40, Training Loss (MMSE): 0.6656, Validation Loss (MMSE): 0.6641\n",
            "Epoch 38/40, Training Loss (MMSE): 0.6601, Validation Loss (MMSE): 0.6438\n",
            "Epoch 39/40, Training Loss (MMSE): 0.6615, Validation Loss (MMSE): 0.6702\n",
            "Epoch 40/40, Training Loss (MMSE): 0.6609, Validation Loss (MMSE): 0.6585\n"
          ]
        }
      ]
    },
    {
      "cell_type": "code",
      "source": [
        " # Plot the loss function for both the training and validation\n",
        "plt.figure(figsize=(10, 6))\n",
        "plt.plot(train_losses, label='Training Loss')\n",
        "plt.plot(val_losses, label='Validation Loss')\n",
        "plt.xlabel('Epoch')\n",
        "plt.ylabel('Loss')\n",
        "plt.legend()\n",
        "plt.title('Training and Validation Loss Over Epochs')\n",
        "plt.show()"
      ],
      "metadata": {
        "colab": {
          "base_uri": "https://localhost:8080/",
          "height": 564
        },
        "id": "YjQf6CVTltGT",
        "outputId": "e002da4d-b6f5-4502-8016-57cc03d55271"
      },
      "execution_count": 25,
      "outputs": [
        {
          "output_type": "display_data",
          "data": {
            "text/plain": [
              "<Figure size 1000x600 with 1 Axes>"
            ],
            "image/png": "[encoded data removed]"
          },
          "metadata": {}
        }
      ]
    },
    {
      "cell_type": "code",
      "source": [
        "import matplotlib.pyplot as plt\n",
        "import torch.optim as optim\n",
        "import torch\n",
        "\n",
        "# Function to recommend items for a specific user\n",
        "def recommend_for_user(model, user_ratings, top_n=5, device='cpu'):\n",
        "\n",
        "    #Generate recommendations for a single user based on their existing ratings.\n",
        "\n",
        "    # Move user_ratings to the correct device and ensure it's float32\n",
        "    user_ratings = user_ratings.to(device).float().unsqueeze(0)  # Add batch dimension\n",
        "    \"\"\"\n",
        "    Parameters:\n",
        "    - model: Trained AutoEncoder model\n",
        "    - user_ratings: Tensor of the user's ratings (with 0 for unrated items)\n",
        "    - top_n: Number of top recommendations to return\n",
        "    - device: Device on which the model runs ('cpu' or 'cuda')\n",
        "\n",
        "    Returns:\n",
        "    - List of indices representing the recommended items\n",
        "    \"\"\"\n",
        "    # Pass the user ratings through the autoencoder to get reconstructed ratings\n",
        "    model.eval()\n",
        "    with torch.no_grad():\n",
        "        reconstructed_ratings = model(user_ratings).squeeze(0)  # Remove batch dimension\n",
        "\n",
        "    # Mask out already-rated items by setting their scores to a very low value\n",
        "    mask = user_ratings.squeeze(0) == 0  # True for unrated items\n",
        "    masked_ratings = reconstructed_ratings * mask  # Set rated items' scores to 0\n",
        "\n",
        "    # Get indices of the top N recommendations\n",
        "    recommended_indices = torch.argsort(masked_ratings, descending=True)[:top_n]\n",
        "\n",
        "    return recommended_indices.tolist()\n"
      ],
      "metadata": {
        "id": "cVEJ9MMBmWrH"
      },
      "execution_count": 27,
      "outputs": []
    },
    {
      "cell_type": "code",
      "source": [
        " # Generate recommendations for a sample user\n",
        "model.eval()"
      ],
      "metadata": {
        "colab": {
          "base_uri": "https://localhost:8080/"
        },
        "id": "76Xfj6_ynm60",
        "outputId": "1290e03b-323d-4795-9291-f45345bf95ee"
      },
      "execution_count": 28,
      "outputs": [
        {
          "output_type": "execute_result",
          "data": {
            "text/plain": [
              "AutoEncoder(\n",
              "  (encoder): Sequential(\n",
              "    (0): Linear(in_features=9559, out_features=512, bias=True)\n",
              "    (1): ReLU()\n",
              "    (2): Linear(in_features=512, out_features=512, bias=True)\n",
              "    (3): ReLU()\n",
              "    (4): Linear(in_features=512, out_features=1024, bias=True)\n",
              "    (5): ReLU()\n",
              "  )\n",
              "  (decoder): Sequential(\n",
              "    (0): Linear(in_features=1024, out_features=512, bias=True)\n",
              "    (1): ReLU()\n",
              "    (2): Linear(in_features=512, out_features=512, bias=True)\n",
              "    (3): ReLU()\n",
              "    (4): Linear(in_features=512, out_features=9559, bias=True)\n",
              "  )\n",
              ")"
            ]
          },
          "metadata": {},
          "execution_count": 28
        }
      ]
    },
    {
      "cell_type": "code",
      "source": [
        "sample_user_ratings = next(iter(train_loader))  # Get a batch of user ratings from the training data\n",
        ""
      ],
      "metadata": {
        "id": "tryrDjAZnrUd"
      },
      "execution_count": 29,
      "outputs": []
    },
    {
      "cell_type": "code",
      "source": [
        "user_idx = 0  # Index of the user in the batch to generate recommendations for\n",
        ""
      ],
      "metadata": {
        "id": "j1nf3CmwnvAl"
      },
      "execution_count": 30,
      "outputs": []
    },
    {
      "cell_type": "code",
      "source": [
        "# Get reconstructed ratings\n",
        "with torch.no_grad():\n",
        "    reconstructed_data = model(sample_user_ratings[user_idx].to(device).float())\n",
        "\n",
        "print(\"Original ratings for the user:\")\n",
        "print(sample_user_ratings[user_idx])\n",
        "\n",
        "print(\"\\nReconstructed (predicted) ratings for the user:\")\n",
        "print(reconstructed_data)"
      ],
      "metadata": {
        "colab": {
          "base_uri": "https://localhost:8080/"
        },
        "id": "ckbAGVGuoHpF",
        "outputId": "838d6866-8e76-4aee-c382-a037299e69f6"
      },
      "execution_count": 32,
      "outputs": [
        {
          "output_type": "stream",
          "name": "stdout",
          "text": [
            "Original ratings for the user:\n",
            "tensor([0., 0., 0.,  ..., 0., 0., 0.], dtype=torch.float64)\n",
            "\n",
            "Reconstructed (predicted) ratings for the user:\n",
            "tensor([3.2022, 2.9282, 2.6407,  ..., 3.0340, 2.8810, 0.6284])\n"
          ]
        }
      ]
    },
    {
      "cell_type": "code",
      "source": [
        "recommendations = recommend_for_user(model, sample_user_ratings[user_idx], top_n=5, device=device)\n",
        "print(f\"Top recommendations for user {user_idx + 1}: {recommendations}\")"
      ],
      "metadata": {
        "colab": {
          "base_uri": "https://localhost:8080/"
        },
        "id": "0a3bNPIonxxh",
        "outputId": "5518522d-9312-4e3a-c4d9-a890247acdb1"
      },
      "execution_count": 31,
      "outputs": [
        {
          "output_type": "stream",
          "name": "stdout",
          "text": [
            "Top recommendations for user 1: [4574, 4029, 6006, 8880, 5023]\n"
          ]
        }
      ]
    }
  ]
}